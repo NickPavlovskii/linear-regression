{
 "cells": [
  {
   "cell_type": "code",
   "execution_count": 1,
   "id": "8ec0a538",
   "metadata": {},
   "outputs": [],
   "source": [
    "import numpy as np\n",
    "from matplotlib import pyplot as plt"
   ]
  },
  {
   "cell_type": "code",
   "execution_count": 3,
   "id": "08938a40",
   "metadata": {},
   "outputs": [],
   "source": [
    "\n",
    "import numpy as np\n",
    "import matplotlib.pyplot as plt\n",
    "from numpy import linalg\n",
    "from scipy.stats import norm\n",
    "import seaborn as sns\n",
    "\n",
    "sns.set_style(\"dark\")\n"
   ]
  },
  {
   "cell_type": "code",
   "execution_count": 4,
   "id": "04eaac9a",
   "metadata": {},
   "outputs": [],
   "source": [
    "def drawData(X,Y):\n",
    "    plt.plot(X,Y,'o')\n",
    "    plt.title(\"data points\")\n",
    "    plt.xlabel('x',color='#1C2833')\n",
    "    plt.ylabel('y',color='#1C2833')\n",
    "    plt.show()\n",
    "\n",
    "\n",
    "def drawPolynom(X,Y,w, X_m=[], Y_m=[]):\n",
    "    predicted = np.dot(X,w)\n",
    "    plt.plot(X[:,0],Y,'o')\n",
    "    plt.plot(X[:,0], predicted, 'o',linewidth=1)\n",
    "    plt.plot(X_m, Y_m, '--')\n",
    "    plt.title('fitted line')\n",
    "    plt.xlabel('x', color='#1C2833')\n",
    "    plt.ylabel('y', color='#1C2833')\n",
    "    plt.show()\n",
    "\n",
    "\n",
    "def addNoise(Y):\n",
    "    Y += norm.rvs(size=Y.shape[0])\n",
    "    return Y\n",
    "\n",
    "\n",
    "def generatePointsOnLine(shuffle=True, n=100):\n",
    "    X = np.linspace(-3, 3, n)\n",
    "    if shuffle:\n",
    "        np.random.shuffle(X)\n",
    "    Y = 2*X\n",
    "    return X,Y\n",
    "\n",
    "\n",
    "def generateDataset():\n",
    "    X,Y = generatePointsOnLine()\n",
    "    Y = addNoise(Y)\n",
    "    drawData(X,Y)\n",
    "    return X,Y"
   ]
  },
  {
   "cell_type": "code",
   "execution_count": 5,
   "id": "bf395211",
   "metadata": {},
   "outputs": [
    {
     "data": {
      "image/png": "[encoded data removed]",
      "text/plain": [
       "<Figure size 432x288 with 1 Axes>"
      ]
     },
     "metadata": {},
     "output_type": "display_data"
    }
   ],
   "source": [
    "X_gen, Y = generateDataset()"
   ]
  },
  {
   "cell_type": "code",
   "execution_count": 6,
   "id": "1065dbda",
   "metadata": {},
   "outputs": [
    {
     "data": {
      "text/plain": [
       "array([-0.09090909, -2.21212121,  0.87878788, -2.39393939, -2.81818182,\n",
       "        0.6969697 ,  2.33333333, -0.75757576, -0.15151515,  0.15151515,\n",
       "        3.        ,  0.93939394,  1.        , -0.93939394, -1.42424242,\n",
       "        2.75757576, -1.54545455, -0.57575758,  2.93939394, -1.48484848,\n",
       "       -2.15151515,  2.51515152, -0.27272727, -0.39393939, -1.12121212,\n",
       "       -1.        , -0.81818182, -1.36363636, -1.78787879,  1.96969697,\n",
       "        1.18181818, -2.09090909, -2.45454545, -1.66666667, -0.6969697 ,\n",
       "        1.54545455, -1.84848485, -2.93939394, -1.90909091,  2.03030303,\n",
       "        1.66666667,  0.57575758, -2.51515152, -0.87878788,  0.27272727,\n",
       "       -1.3030303 ,  0.45454545, -2.87878788,  1.60606061, -2.75757576,\n",
       "        1.90909091, -1.18181818,  2.45454545, -1.06060606, -2.03030303,\n",
       "        2.15151515,  1.24242424, -0.03030303,  2.39393939, -0.21212121,\n",
       "        2.09090909,  0.09090909,  2.81818182,  0.51515152, -0.63636364,\n",
       "        2.57575758,  0.39393939,  2.21212121, -0.33333333,  0.75757576,\n",
       "        0.63636364, -2.27272727,  0.81818182,  0.21212121,  2.63636364,\n",
       "       -2.57575758,  1.78787879, -1.96969697,  1.42424242,  2.6969697 ,\n",
       "        1.36363636, -2.6969697 ,  1.72727273, -1.72727273,  1.84848485,\n",
       "       -3.        , -0.51515152,  1.06060606, -2.63636364,  2.27272727,\n",
       "       -1.24242424, -2.33333333,  0.33333333,  1.3030303 ,  2.87878788,\n",
       "        0.03030303,  1.12121212, -1.60606061, -0.45454545,  1.48484848])"
      ]
     },
     "execution_count": 6,
     "metadata": {},
     "output_type": "execute_result"
    }
   ],
   "source": [
    "\n",
    "X_gen # выборка x (признаки)\n"
   ]
  },
  {
   "cell_type": "code",
   "execution_count": 15,
   "id": "25dd7347",
   "metadata": {},
   "outputs": [
    {
     "data": {
      "text/plain": [
       "array([ 0.34184631, -4.02245992,  3.59582179, -4.86987468, -6.06166524,\n",
       "        1.1953125 ,  4.30407092,  0.42223455,  1.15476563,  0.34525326,\n",
       "        7.16517978,  1.54333946,  2.94621304, -2.41163666, -2.3738058 ,\n",
       "        4.80739753, -2.98451861, -1.19147262,  7.52079259, -0.58069176,\n",
       "       -3.80393039,  4.53760474, -1.55023427, -1.77766964, -3.51670775,\n",
       "       -3.72774269, -2.43180264, -3.06582102, -3.32266902,  5.06334394,\n",
       "        1.70329102, -4.94936638, -3.88093616, -6.21028126, -0.92710729,\n",
       "        2.86723407, -3.09837025, -4.61469261, -5.85260789,  2.56519347,\n",
       "        1.76228399,  3.22957419, -5.46703523, -3.95498785, -0.15245383,\n",
       "       -2.38168852,  1.47204655, -5.64937175,  2.88295339, -5.32981376,\n",
       "        3.96015505, -2.51587447,  4.3079729 , -1.67598056, -2.95271514,\n",
       "        4.14131172,  1.31521574,  1.56706115,  5.82807465, -1.43511485,\n",
       "        4.13567126,  0.60830557,  7.04297839,  1.41141862, -0.51412037,\n",
       "        6.16351831,  1.05118006,  4.96839238,  0.05616103,  1.1774442 ,\n",
       "        2.32084504, -4.16642238,  0.53690032,  1.35657058,  7.55015414,\n",
       "       -5.7571045 ,  3.38421742, -5.04451221,  0.93948426,  6.27427067,\n",
       "        2.99028493, -3.93801208,  1.72388643, -3.39204907,  2.99396199,\n",
       "       -7.4410804 , -1.86273522,  5.17667456, -5.56930014,  3.98123589,\n",
       "       -1.27314592, -4.95124977, -0.36779705,  3.62698875,  5.99189632,\n",
       "        0.76925884,  2.52649627, -2.85149443, -2.79831686,  3.62172352])"
      ]
     },
     "execution_count": 15,
     "metadata": {},
     "output_type": "execute_result"
    }
   ],
   "source": [
    "\n",
    "Y # выборка y (ответы)"
   ]
  },
  {
   "cell_type": "code",
   "execution_count": 8,
   "id": "cbe2ba56",
   "metadata": {},
   "outputs": [
    {
     "data": {
      "text/plain": [
       "(100,)"
      ]
     },
     "execution_count": 8,
     "metadata": {},
     "output_type": "execute_result"
    }
   ],
   "source": [
    "X_gen.shape"
   ]
  },
  {
   "cell_type": "code",
   "execution_count": 9,
   "id": "49a083bf",
   "metadata": {},
   "outputs": [
    {
     "data": {
      "text/plain": [
       "(100,)"
      ]
     },
     "execution_count": 9,
     "metadata": {},
     "output_type": "execute_result"
    }
   ],
   "source": [
    "Y.shape"
   ]
  },
  {
   "cell_type": "code",
   "execution_count": 10,
   "id": "7550cb25",
   "metadata": {},
   "outputs": [],
   "source": [
    "X_gen = X_gen.reshape(-1, 1)\n"
   ]
  },
  {
   "cell_type": "code",
   "execution_count": 11,
   "id": "8548b49b",
   "metadata": {},
   "outputs": [],
   "source": [
    "from sklearn.linear_model import LinearRegression"
   ]
  },
  {
   "cell_type": "code",
   "execution_count": 27,
   "id": "c9f540fc",
   "metadata": {},
   "outputs": [],
   "source": [
    "from sklearn.model_selection import train_test_split \n",
    "X_gen_train,X_gen_test, Y_train, Y_test = train_test_split(X_gen, Y, test_size=0.2, random_state=0)\n"
   ]
  },
  {
   "cell_type": "code",
   "execution_count": 34,
   "id": "18d06402",
   "metadata": {},
   "outputs": [
    {
     "data": {
      "text/plain": [
       "LinearRegression()"
      ]
     },
     "execution_count": 34,
     "metadata": {},
     "output_type": "execute_result"
    }
   ],
   "source": [
    "\n",
    "regressor = LinearRegression() \n",
    "regressor.fit(X_gen_train, Y_train)\n"
   ]
  },
  {
   "cell_type": "code",
   "execution_count": 36,
   "id": "793b8cce",
   "metadata": {},
   "outputs": [
    {
     "name": "stdout",
     "output_type": "stream",
     "text": [
      "0.10081763681500436\n"
     ]
    }
   ],
   "source": [
    "print(regressor.intercept_)\n"
   ]
  },
  {
   "cell_type": "code",
   "execution_count": 37,
   "id": "abdde330",
   "metadata": {},
   "outputs": [
    {
     "name": "stdout",
     "output_type": "stream",
     "text": [
      "[2.0546538]\n"
     ]
    }
   ],
   "source": [
    "print(regressor.coef_)\n"
   ]
  },
  {
   "cell_type": "code",
   "execution_count": 38,
   "id": "9893445a",
   "metadata": {},
   "outputs": [],
   "source": [
    "Y_pred = regressor.predict(X_gen_test)\n"
   ]
  },
  {
   "cell_type": "code",
   "execution_count": 44,
   "id": "9092925d",
   "metadata": {},
   "outputs": [
    {
     "data": {
      "image/png": "[encoded data removed]",
      "text/plain": [
       "<Figure size 432x288 with 1 Axes>"
      ]
     },
     "metadata": {},
     "output_type": "display_data"
    }
   ],
   "source": [
    "plt.scatter(X_gen_test, Y_test,  color='blue')\n",
    "plt.plot(X_gen_test, Y_pred, color='red', linewidth=2)\n",
    "plt.show()"
   ]
  },
  {
   "cell_type": "code",
   "execution_count": null,
   "id": "54d32662",
   "metadata": {},
   "outputs": [],
   "source": []
  }
 ],
 "metadata": {
  "kernelspec": {
   "display_name": "Python 3",
   "language": "python",
   "name": "python3"
  },
  "language_info": {
   "codemirror_mode": {
    "name": "ipython",
    "version": 3
   },
   "file_extension": ".py",
   "mimetype": "text/x-python",
   "name": "python",
   "nbconvert_exporter": "python",
   "pygments_lexer": "ipython3",
   "version": "3.8.8"
  }
 },
 "nbformat": 4,
 "nbformat_minor": 5
}
